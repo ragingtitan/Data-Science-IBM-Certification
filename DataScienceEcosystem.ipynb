{
 "cells": [
  {
   "cell_type": "markdown",
   "id": "d79b9fe2-c417-4de9-bf89-ddf8d316cf97",
   "metadata": {},
   "source": [
    "# Data Science Tools and Ecosystem\n"
   ]
  },
  {
   "cell_type": "markdown",
   "id": "9cddabed-0635-46ab-8fe9-27f3d5e6302d",
   "metadata": {},
   "source": [
    "In this notebook, Data Science Tools and Ecosystem are summarized.\n"
   ]
  },
  {
   "cell_type": "markdown",
   "id": "9d54cfc0-1649-4a81-9421-62ef0f4d3994",
   "metadata": {},
   "source": [
    "**Objectives:**\n",
    "* Popular languages used in Data Science\n",
    "* Popular libraries used in Data Science\n",
    "* Popular Tools used in Data Science\n",
    "* Example of executing expressions "
   ]
  },
  {
   "cell_type": "markdown",
   "id": "6000c95f-d4b4-4c81-922e-dfc2b5530b6f",
   "metadata": {},
   "source": [
    "Some of the popular languages that Data Scientists use are:"
   ]
  },
  {
   "cell_type": "markdown",
   "id": "43e3cba7-bbef-47e3-a70b-0b69f3eb7af9",
   "metadata": {},
   "source": [
    "1. Python\n",
    "2. R\n",
    "3. Julia \n",
    "4. Scala"
   ]
  },
  {
   "cell_type": "markdown",
   "id": "50812be5-6aec-44fc-acac-357681665df5",
   "metadata": {},
   "source": [
    "Some of the commonly used libraries used by Data Scientists include:\n",
    "1. Matplotlib\n",
    "2. TensorFlow\n",
    "3. NumPy\n",
    "4. Pandas\n",
    "5. Scikit-learn\n"
   ]
  },
  {
   "cell_type": "markdown",
   "id": "9ef88256-5694-4c6e-ac55-eff3a973da3a",
   "metadata": {},
   "source": [
    "|Data Science Tools |\n",
    "|-----|\n",
    "|Jupyter Notebook|\n",
    "|JupyterLab|\n",
    "|Rstudio|"
   ]
  },
  {
   "cell_type": "markdown",
   "id": "faca5991-4de1-44cc-a6d9-303bd4e86ae6",
   "metadata": {},
   "source": [
    "### Below are a few examples of evaluating arithmetic expressions in Python."
   ]
  },
  {
   "cell_type": "code",
   "execution_count": 9,
   "id": "95e27284-88d5-47c9-80e2-9267861a4b54",
   "metadata": {},
   "outputs": [
    {
     "data": {
      "text/plain": [
       "17"
      ]
     },
     "execution_count": 9,
     "metadata": {},
     "output_type": "execute_result"
    }
   ],
   "source": [
    "#This a simple arithmetic expression to mutiply then add integers.\n",
    "(3*4)+5\n"
   ]
  },
  {
   "cell_type": "code",
   "execution_count": 11,
   "id": "2507227f-dffb-4676-9163-51d6faa16249",
   "metadata": {},
   "outputs": [
    {
     "name": "stdout",
     "output_type": "stream",
     "text": [
      "200 minutes equals to 3.3333333333333335 hours\n"
     ]
    }
   ],
   "source": [
    "#This will convert 200 minutes to hours by diving by 60\n",
    "minutes = 200\n",
    "hours = minutes / 60\n",
    "print(f\"{minutes} minutes equals to {hours} hours\")"
   ]
  },
  {
   "cell_type": "markdown",
   "id": "ace5e107-acc7-4b6e-8938-4df996240403",
   "metadata": {},
   "source": [
    "## Author\n",
    "Anish Das"
   ]
  },
  {
   "cell_type": "code",
   "execution_count": null,
   "id": "6c889675-602d-4b7b-b06f-33095b7cfb1d",
   "metadata": {},
   "outputs": [],
   "source": []
  }
 ],
 "metadata": {
  "kernelspec": {
   "display_name": "Python 3 (ipykernel)",
   "language": "python",
   "name": "python3"
  },
  "language_info": {
   "codemirror_mode": {
    "name": "ipython",
    "version": 3
   },
   "file_extension": ".py",
   "mimetype": "text/x-python",
   "name": "python",
   "nbconvert_exporter": "python",
   "pygments_lexer": "ipython3",
   "version": "3.11.4"
  }
 },
 "nbformat": 4,
 "nbformat_minor": 5
}
